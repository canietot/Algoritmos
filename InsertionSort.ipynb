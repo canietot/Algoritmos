{
 "cells": [
  {
   "cell_type": "markdown",
   "metadata": {},
   "source": [
    "# INSERTION SORT"
   ]
  },
  {
   "cell_type": "markdown",
   "metadata": {},
   "source": [
    "## Swaps "
   ]
  },
  {
   "cell_type": "code",
   "execution_count": 1,
   "metadata": {
    "collapsed": false
   },
   "outputs": [
    {
     "name": "stdout",
     "output_type": "stream",
     "text": [
      "('el promedio es : ', 5)\n",
      "[4, 3, 5, 6, 4, 5, 3, 2, 2, 1, 1, 0, 4, 5, 3, 2, 4, 3, 3, 4, 2, 1, 3, 2, 5, 4, 6, 7, 5, 6, 6, 5, 7, 8, 6, 7, 7, 8, 8, 9, 9, 10, 6, 7, 7, 8, 8, 9, 4, 3, 3, 2, 2, 1, 5, 4, 6, 7, 5, 6, 4, 3, 5, 6, 4, 5, 3, 2, 4, 5, 3, 4, 5, 6, 4, 3, 5, 4, 6, 7, 7, 8, 8, 9, 5, 4, 6, 7, 5, 6, 6, 5, 7, 8, 6, 7, 4, 5, 3, 2, 4, 3, 5, 6, 6, 7, 7, 8, 4, 3, 5, 6, 4, 5, 5, 4, 6, 7, 5, 6]\n"
     ]
    },
    {
     "data": {
      "text/plain": [
       "(array([  1.,   0.,   0.,   0.,   0.,   0.,   0.,   0.,   0.,   0.,   0.,\n",
       "          0.,   4.,   0.,   0.,   0.,   0.,   0.,   0.,   0.,   0.,   0.,\n",
       "          0.,   0.,   9.,   0.,   0.,   0.,   0.,   0.,   0.,   0.,   0.,\n",
       "          0.,   0.,   0.,  15.,   0.,   0.,   0.,   0.,   0.,   0.,   0.,\n",
       "          0.,   0.,   0.,   0.,  20.,   0.,   0.,   0.,   0.,   0.,   0.,\n",
       "          0.,   0.,   0.,   0.,   0.,  22.,   0.,   0.,   0.,   0.,   0.,\n",
       "          0.,   0.,   0.,   0.,   0.,   0.,  20.,   0.,   0.,   0.,   0.,\n",
       "          0.,   0.,   0.,   0.,   0.,   0.,   0.,  15.,   0.,   0.,   0.,\n",
       "          0.,   0.,   0.,   0.,   0.,   0.,   0.,   0.,   9.,   0.,   0.,\n",
       "          0.,   0.,   0.,   0.,   0.,   0.,   0.,   0.,   0.,   4.,   0.,\n",
       "          0.,   0.,   0.,   0.,   0.,   0.,   0.,   0.,   0.,   1.]),\n",
       " array([  0.        ,   0.08333333,   0.16666667,   0.25      ,\n",
       "          0.33333333,   0.41666667,   0.5       ,   0.58333333,\n",
       "          0.66666667,   0.75      ,   0.83333333,   0.91666667,\n",
       "          1.        ,   1.08333333,   1.16666667,   1.25      ,\n",
       "          1.33333333,   1.41666667,   1.5       ,   1.58333333,\n",
       "          1.66666667,   1.75      ,   1.83333333,   1.91666667,\n",
       "          2.        ,   2.08333333,   2.16666667,   2.25      ,\n",
       "          2.33333333,   2.41666667,   2.5       ,   2.58333333,\n",
       "          2.66666667,   2.75      ,   2.83333333,   2.91666667,\n",
       "          3.        ,   3.08333333,   3.16666667,   3.25      ,\n",
       "          3.33333333,   3.41666667,   3.5       ,   3.58333333,\n",
       "          3.66666667,   3.75      ,   3.83333333,   3.91666667,\n",
       "          4.        ,   4.08333333,   4.16666667,   4.25      ,\n",
       "          4.33333333,   4.41666667,   4.5       ,   4.58333333,\n",
       "          4.66666667,   4.75      ,   4.83333333,   4.91666667,\n",
       "          5.        ,   5.08333333,   5.16666667,   5.25      ,\n",
       "          5.33333333,   5.41666667,   5.5       ,   5.58333333,\n",
       "          5.66666667,   5.75      ,   5.83333333,   5.91666667,\n",
       "          6.        ,   6.08333333,   6.16666667,   6.25      ,\n",
       "          6.33333333,   6.41666667,   6.5       ,   6.58333333,\n",
       "          6.66666667,   6.75      ,   6.83333333,   6.91666667,\n",
       "          7.        ,   7.08333333,   7.16666667,   7.25      ,\n",
       "          7.33333333,   7.41666667,   7.5       ,   7.58333333,\n",
       "          7.66666667,   7.75      ,   7.83333333,   7.91666667,\n",
       "          8.        ,   8.08333333,   8.16666667,   8.25      ,\n",
       "          8.33333333,   8.41666667,   8.5       ,   8.58333333,\n",
       "          8.66666667,   8.75      ,   8.83333333,   8.91666667,\n",
       "          9.        ,   9.08333333,   9.16666667,   9.25      ,\n",
       "          9.33333333,   9.41666667,   9.5       ,   9.58333333,\n",
       "          9.66666667,   9.75      ,   9.83333333,   9.91666667,  10.        ]),\n",
       " <a list of 120 Patch objects>)"
      ]
     },
     "execution_count": 1,
     "metadata": {},
     "output_type": "execute_result"
    },
    {
     "data": {
      "image/png": "[encoded data removed]",
      "text/plain": [
       "<matplotlib.figure.Figure at 0x7ff1611f6550>"
      ]
     },
     "metadata": {},
     "output_type": "display_data"
    }
   ],
   "source": [
    "import matplotlib.pyplot as plt\n",
    "from itertools import permutations\n",
    "import random\n",
    "class Counter:\n",
    "    def __init__(self):\n",
    "        self.steps = 0\n",
    "\n",
    "    def reset(self):\n",
    "        self.steps = 0\n",
    "\n",
    "    def count(self):\n",
    "        self.steps += 1\n",
    "\n",
    "    def print_steps(self):\n",
    "        return self.steps\n",
    "        \n",
    "def insertionsort(A,swap):   \n",
    "    for j in range(1,len(A)):\n",
    "        key = A[j] #look\n",
    "        i = j-1 \n",
    "        while (i > -1) and key < A[i]: \n",
    "            A[i+1]=A[i]\n",
    "            swap.count()\n",
    "            i=i-1\n",
    "        A[i+1] = key\n",
    "    return A\n",
    "    \n",
    "n= 5\n",
    "s= random.sample(range(100), n)\n",
    "s = list (s)\n",
    "x= list (permutations(s, n))\n",
    "f=n\n",
    "fac=1\n",
    "p=[]\n",
    "while f > 0:\n",
    "    fac= fac*f\n",
    "    f= f-1\n",
    "for i in range (0,fac):\n",
    "    t = list (x[i])\n",
    "    swap = Counter ()\n",
    "    insertionsort(t,swap)\n",
    "    p.append(swap.print_steps())\n",
    "    \n",
    "prom=0\n",
    "suma = 0    \n",
    "for h in range (0,fac):\n",
    "    suma = suma + p[h]\n",
    "    \n",
    "prom = (suma)/fac\n",
    "print (\"el promedio es : \" , prom)\n",
    "print p\n",
    "plt.hist(p,fac,(min(p),max(p)))"
   ]
  },
  {
   "cell_type": "code",
   "execution_count": 5,
   "metadata": {
    "collapsed": false
   },
   "outputs": [
    {
     "name": "stdout",
     "output_type": "stream",
     "text": [
      "('el promedio es : ', 10)\n"
     ]
    },
    {
     "data": {
      "text/plain": [
       "(array([ 1.,  0.,  0., ...,  0.,  0.,  1.]),\n",
       " array([  0.00000000e+00,   4.16666667e-03,   8.33333333e-03, ...,\n",
       "          2.09916667e+01,   2.09958333e+01,   2.10000000e+01]),\n",
       " <a list of 5040 Patch objects>)"
      ]
     },
     "execution_count": 5,
     "metadata": {},
     "output_type": "execute_result"
    },
    {
     "data": {
      "image/png": "[encoded data removed]",
      "text/plain": [
       "<matplotlib.figure.Figure at 0x7ff16133ac50>"
      ]
     },
     "metadata": {},
     "output_type": "display_data"
    }
   ],
   "source": [
    "import matplotlib.pyplot as plt\n",
    "from itertools import permutations\n",
    "import random\n",
    "class Counter:\n",
    "    def __init__(self):\n",
    "        self.steps = 0\n",
    "\n",
    "    def reset(self):\n",
    "        self.steps = 0\n",
    "\n",
    "    def count(self):\n",
    "        self.steps += 1\n",
    "\n",
    "    def print_steps(self):\n",
    "        return self.steps\n",
    "        \n",
    "def insertionsort(A,swap):   \n",
    "    for j in range(1,len(A)):\n",
    "        key = A[j] #look\n",
    "        i = j-1 \n",
    "        while (i > -1) and key < A[i]: \n",
    "            A[i+1]=A[i]\n",
    "            swap.count()\n",
    "            i=i-1\n",
    "        A[i+1] = key\n",
    "    return A\n",
    "    \n",
    "n= 7\n",
    "s= random.sample(range(100), n)\n",
    "s = list (s)\n",
    "x= list (permutations(s, n))\n",
    "f=n\n",
    "fac=1\n",
    "p=[]\n",
    "while f > 0:\n",
    "    fac= fac*f\n",
    "    f= f-1\n",
    "for i in range (0,fac):\n",
    "    t = list (x[i])\n",
    "    swap = Counter ()\n",
    "    insertionsort(t,swap)\n",
    "    p.append(swap.print_steps())\n",
    "    \n",
    "prom=0\n",
    "suma = 0    \n",
    "for h in range (0,fac):\n",
    "    suma = suma + p[h]\n",
    "    \n",
    "prom = (suma)/fac\n",
    "print (\"el promedio es : \" , prom)\n",
    "plt.hist(p,fac,(min(p),max(p)))"
   ]
  },
  {
   "cell_type": "markdown",
   "metadata": {},
   "source": [
    "## LOOPS"
   ]
  },
  {
   "cell_type": "code",
   "execution_count": 2,
   "metadata": {
    "collapsed": false
   },
   "outputs": [
    {
     "name": "stdout",
     "output_type": "stream",
     "text": [
      "('el promedio es : ', 9)\n",
      "[10, 9, 11, 10, 8, 9, 11, 10, 12, 13, 11, 12, 12, 11, 13, 14, 12, 13, 9, 10, 10, 11, 11, 12, 9, 8, 10, 9, 7, 8, 8, 7, 7, 6, 6, 5, 9, 8, 8, 7, 7, 6, 6, 7, 5, 4, 6, 5, 10, 9, 11, 12, 10, 11, 9, 8, 8, 7, 7, 6, 10, 11, 9, 8, 10, 9, 9, 10, 8, 7, 9, 8, 11, 10, 12, 13, 11, 12, 10, 9, 9, 8, 8, 7, 11, 12, 10, 9, 11, 10, 10, 11, 9, 8, 10, 9, 8, 9, 9, 10, 10, 11, 7, 8, 6, 5, 7, 6, 8, 9, 7, 6, 8, 7, 9, 10, 8, 7, 9, 8]\n"
     ]
    },
    {
     "data": {
      "text/plain": [
       "(array([  1.,   0.,   0.,   0.,   0.,   0.,   0.,   0.,   0.,   0.,   0.,\n",
       "          0.,   4.,   0.,   0.,   0.,   0.,   0.,   0.,   0.,   0.,   0.,\n",
       "          0.,   0.,   9.,   0.,   0.,   0.,   0.,   0.,   0.,   0.,   0.,\n",
       "          0.,   0.,   0.,  15.,   0.,   0.,   0.,   0.,   0.,   0.,   0.,\n",
       "          0.,   0.,   0.,   0.,  20.,   0.,   0.,   0.,   0.,   0.,   0.,\n",
       "          0.,   0.,   0.,   0.,   0.,  22.,   0.,   0.,   0.,   0.,   0.,\n",
       "          0.,   0.,   0.,   0.,   0.,   0.,  20.,   0.,   0.,   0.,   0.,\n",
       "          0.,   0.,   0.,   0.,   0.,   0.,   0.,  15.,   0.,   0.,   0.,\n",
       "          0.,   0.,   0.,   0.,   0.,   0.,   0.,   0.,   9.,   0.,   0.,\n",
       "          0.,   0.,   0.,   0.,   0.,   0.,   0.,   0.,   0.,   4.,   0.,\n",
       "          0.,   0.,   0.,   0.,   0.,   0.,   0.,   0.,   0.,   1.]),\n",
       " array([  4.        ,   4.08333333,   4.16666667,   4.25      ,\n",
       "          4.33333333,   4.41666667,   4.5       ,   4.58333333,\n",
       "          4.66666667,   4.75      ,   4.83333333,   4.91666667,\n",
       "          5.        ,   5.08333333,   5.16666667,   5.25      ,\n",
       "          5.33333333,   5.41666667,   5.5       ,   5.58333333,\n",
       "          5.66666667,   5.75      ,   5.83333333,   5.91666667,\n",
       "          6.        ,   6.08333333,   6.16666667,   6.25      ,\n",
       "          6.33333333,   6.41666667,   6.5       ,   6.58333333,\n",
       "          6.66666667,   6.75      ,   6.83333333,   6.91666667,\n",
       "          7.        ,   7.08333333,   7.16666667,   7.25      ,\n",
       "          7.33333333,   7.41666667,   7.5       ,   7.58333333,\n",
       "          7.66666667,   7.75      ,   7.83333333,   7.91666667,\n",
       "          8.        ,   8.08333333,   8.16666667,   8.25      ,\n",
       "          8.33333333,   8.41666667,   8.5       ,   8.58333333,\n",
       "          8.66666667,   8.75      ,   8.83333333,   8.91666667,\n",
       "          9.        ,   9.08333333,   9.16666667,   9.25      ,\n",
       "          9.33333333,   9.41666667,   9.5       ,   9.58333333,\n",
       "          9.66666667,   9.75      ,   9.83333333,   9.91666667,\n",
       "         10.        ,  10.08333333,  10.16666667,  10.25      ,\n",
       "         10.33333333,  10.41666667,  10.5       ,  10.58333333,\n",
       "         10.66666667,  10.75      ,  10.83333333,  10.91666667,\n",
       "         11.        ,  11.08333333,  11.16666667,  11.25      ,\n",
       "         11.33333333,  11.41666667,  11.5       ,  11.58333333,\n",
       "         11.66666667,  11.75      ,  11.83333333,  11.91666667,\n",
       "         12.        ,  12.08333333,  12.16666667,  12.25      ,\n",
       "         12.33333333,  12.41666667,  12.5       ,  12.58333333,\n",
       "         12.66666667,  12.75      ,  12.83333333,  12.91666667,\n",
       "         13.        ,  13.08333333,  13.16666667,  13.25      ,\n",
       "         13.33333333,  13.41666667,  13.5       ,  13.58333333,\n",
       "         13.66666667,  13.75      ,  13.83333333,  13.91666667,  14.        ]),\n",
       " <a list of 120 Patch objects>)"
      ]
     },
     "execution_count": 2,
     "metadata": {},
     "output_type": "execute_result"
    },
    {
     "data": {
      "image/png": "[encoded data removed]",
      "text/plain": [
       "<matplotlib.figure.Figure at 0x7ff163247110>"
      ]
     },
     "metadata": {},
     "output_type": "display_data"
    }
   ],
   "source": [
    "import matplotlib.pyplot as plt\n",
    "from itertools import permutations\n",
    "import random\n",
    "class Counter:\n",
    "    def __init__(self):\n",
    "        self.steps = 0\n",
    "\n",
    "    def reset(self):\n",
    "        self.steps = 0\n",
    "\n",
    "    def count(self):\n",
    "        self.steps += 1\n",
    "\n",
    "    def print_steps(self):\n",
    "        return self.steps\n",
    "        \n",
    "def insertionsort(A,look):   \n",
    "    for j in range(1,len(A)):\n",
    "        key = A[j] \n",
    "        i = j-1 \n",
    "        look.count()\n",
    "        while (i > -1) and key < A[i]: \n",
    "            A[i+1]=A[i]\n",
    "            i=i-1\n",
    "            look.count()\n",
    "        A[i+1] = key\n",
    "    return A\n",
    "    \n",
    "n= 5\n",
    "s= random.sample(range(100), n)\n",
    "s = list (s)\n",
    "x= list (permutations(s, n))\n",
    "p=[]\n",
    "f=n\n",
    "fac=1\n",
    "\n",
    "while f > 0:\n",
    "    fac= fac*f\n",
    "    f= f-1\n",
    "\n",
    "for i in range (0,fac):\n",
    "    t = list (x[i])\n",
    "    look = Counter ()\n",
    "    insertionsort(t,look)\n",
    "    p.append(look.print_steps())\n",
    "    \n",
    "prom=0\n",
    "suma = 0    \n",
    "for h in range (0,fac):\n",
    "    suma = suma + p[h]\n",
    "    \n",
    "prom = (suma)/fac\n",
    "print (\"el promedio es : \" , prom)\n",
    "print p\n",
    "plt.hist(p,fac,(min(p),max(p)))\n"
   ]
  },
  {
   "cell_type": "code",
   "execution_count": 6,
   "metadata": {
    "collapsed": false
   },
   "outputs": [
    {
     "name": "stdout",
     "output_type": "stream",
     "text": [
      "('el promedio es : ', 16)\n"
     ]
    },
    {
     "data": {
      "text/plain": [
       "(array([ 1.,  0.,  0., ...,  0.,  0.,  1.]),\n",
       " array([  6.        ,   6.00416667,   6.00833333, ...,  26.99166667,\n",
       "         26.99583333,  27.        ]),\n",
       " <a list of 5040 Patch objects>)"
      ]
     },
     "execution_count": 6,
     "metadata": {},
     "output_type": "execute_result"
    },
    {
     "data": {
      "image/png": "[encoded data removed]",
      "text/plain": [
       "<matplotlib.figure.Figure at 0x7ff161085110>"
      ]
     },
     "metadata": {},
     "output_type": "display_data"
    }
   ],
   "source": [
    "import matplotlib.pyplot as plt\n",
    "from itertools import permutations\n",
    "import random\n",
    "class Counter:\n",
    "    def __init__(self):\n",
    "        self.steps = 0\n",
    "\n",
    "    def reset(self):\n",
    "        self.steps = 0\n",
    "\n",
    "    def count(self):\n",
    "        self.steps += 1\n",
    "\n",
    "    def print_steps(self):\n",
    "        return self.steps\n",
    "        \n",
    "def insertionsort(A,look):   \n",
    "    for j in range(1,len(A)):\n",
    "        key = A[j] \n",
    "        i = j-1 \n",
    "        look.count()\n",
    "        while (i > -1) and key < A[i]: \n",
    "            A[i+1]=A[i]\n",
    "            i=i-1\n",
    "            look.count()\n",
    "        A[i+1] = key\n",
    "    return A\n",
    "    \n",
    "n= 7\n",
    "s= random.sample(range(100), n)\n",
    "s = list (s)\n",
    "x= list (permutations(s, n))\n",
    "p=[]\n",
    "f=n\n",
    "fac=1\n",
    "\n",
    "while f > 0:\n",
    "    fac= fac*f\n",
    "    f= f-1\n",
    "\n",
    "for i in range (0,fac):\n",
    "    t = list (x[i])\n",
    "    look = Counter ()\n",
    "    insertionsort(t,look)\n",
    "    p.append(look.print_steps())\n",
    "    \n",
    "prom=0\n",
    "suma = 0    \n",
    "for h in range (0,fac):\n",
    "    suma = suma + p[h]\n",
    "    \n",
    "prom = (suma)/fac\n",
    "print (\"el promedio es : \" , prom)\n",
    "plt.hist(p,fac,(min(p),max(p)))"
   ]
  },
  {
   "cell_type": "markdown",
   "metadata": {},
   "source": [
    "## PASOS"
   ]
  },
  {
   "cell_type": "code",
   "execution_count": 3,
   "metadata": {
    "collapsed": false
   },
   "outputs": [
    {
     "name": "stdout",
     "output_type": "stream",
     "text": [
      "('el promedio es : ', 36)\n",
      "[39, 36, 42, 39, 33, 36, 42, 39, 45, 42, 36, 39, 45, 42, 48, 45, 39, 42, 30, 33, 33, 36, 36, 39, 36, 33, 39, 36, 30, 33, 33, 30, 36, 33, 27, 30, 42, 39, 39, 36, 36, 33, 27, 30, 24, 27, 33, 30, 39, 36, 42, 39, 33, 36, 36, 33, 39, 36, 30, 33, 45, 42, 42, 39, 39, 36, 30, 33, 27, 30, 36, 33, 48, 45, 51, 48, 42, 45, 45, 42, 42, 39, 39, 36, 48, 45, 45, 42, 42, 39, 39, 42, 36, 33, 39, 36, 27, 30, 30, 33, 33, 36, 24, 27, 21, 24, 30, 27, 27, 30, 24, 27, 33, 30, 36, 39, 33, 30, 36, 33]\n"
     ]
    },
    {
     "data": {
      "text/plain": [
       "(array([  1.,   0.,   0.,   0.,   0.,   0.,   0.,   0.,   0.,   0.,   0.,\n",
       "          0.,   4.,   0.,   0.,   0.,   0.,   0.,   0.,   0.,   0.,   0.,\n",
       "          0.,   0.,   9.,   0.,   0.,   0.,   0.,   0.,   0.,   0.,   0.,\n",
       "          0.,   0.,   0.,  15.,   0.,   0.,   0.,   0.,   0.,   0.,   0.,\n",
       "          0.,   0.,   0.,   0.,  20.,   0.,   0.,   0.,   0.,   0.,   0.,\n",
       "          0.,   0.,   0.,   0.,   0.,  22.,   0.,   0.,   0.,   0.,   0.,\n",
       "          0.,   0.,   0.,   0.,   0.,   0.,  20.,   0.,   0.,   0.,   0.,\n",
       "          0.,   0.,   0.,   0.,   0.,   0.,   0.,  15.,   0.,   0.,   0.,\n",
       "          0.,   0.,   0.,   0.,   0.,   0.,   0.,   0.,   9.,   0.,   0.,\n",
       "          0.,   0.,   0.,   0.,   0.,   0.,   0.,   0.,   0.,   4.,   0.,\n",
       "          0.,   0.,   0.,   0.,   0.,   0.,   0.,   0.,   0.,   1.]),\n",
       " array([ 21.  ,  21.25,  21.5 ,  21.75,  22.  ,  22.25,  22.5 ,  22.75,\n",
       "         23.  ,  23.25,  23.5 ,  23.75,  24.  ,  24.25,  24.5 ,  24.75,\n",
       "         25.  ,  25.25,  25.5 ,  25.75,  26.  ,  26.25,  26.5 ,  26.75,\n",
       "         27.  ,  27.25,  27.5 ,  27.75,  28.  ,  28.25,  28.5 ,  28.75,\n",
       "         29.  ,  29.25,  29.5 ,  29.75,  30.  ,  30.25,  30.5 ,  30.75,\n",
       "         31.  ,  31.25,  31.5 ,  31.75,  32.  ,  32.25,  32.5 ,  32.75,\n",
       "         33.  ,  33.25,  33.5 ,  33.75,  34.  ,  34.25,  34.5 ,  34.75,\n",
       "         35.  ,  35.25,  35.5 ,  35.75,  36.  ,  36.25,  36.5 ,  36.75,\n",
       "         37.  ,  37.25,  37.5 ,  37.75,  38.  ,  38.25,  38.5 ,  38.75,\n",
       "         39.  ,  39.25,  39.5 ,  39.75,  40.  ,  40.25,  40.5 ,  40.75,\n",
       "         41.  ,  41.25,  41.5 ,  41.75,  42.  ,  42.25,  42.5 ,  42.75,\n",
       "         43.  ,  43.25,  43.5 ,  43.75,  44.  ,  44.25,  44.5 ,  44.75,\n",
       "         45.  ,  45.25,  45.5 ,  45.75,  46.  ,  46.25,  46.5 ,  46.75,\n",
       "         47.  ,  47.25,  47.5 ,  47.75,  48.  ,  48.25,  48.5 ,  48.75,\n",
       "         49.  ,  49.25,  49.5 ,  49.75,  50.  ,  50.25,  50.5 ,  50.75,  51.  ]),\n",
       " <a list of 120 Patch objects>)"
      ]
     },
     "execution_count": 3,
     "metadata": {},
     "output_type": "execute_result"
    },
    {
     "data": {
      "image/png": "[encoded data removed]",
      "text/plain": [
       "<matplotlib.figure.Figure at 0x7ff161019e10>"
      ]
     },
     "metadata": {},
     "output_type": "display_data"
    }
   ],
   "source": [
    "from itertools import permutations\n",
    "import matplotlib.pyplot as plt\n",
    "import random\n",
    "class Counter:\n",
    "\n",
    " \n",
    "    def __init__(self):\n",
    "        self.steps = 0\n",
    "        \n",
    "    def reset(self):\n",
    "        self.steps = 0\n",
    "\n",
    "    def count(self):\n",
    "        self.steps += 1\n",
    "\n",
    "    def print_steps(self):\n",
    "        return self.steps\n",
    "        \n",
    "def acct_insertion_sort(A, acct):\n",
    "    j = 1; acct.count()\n",
    "    while j < len(A):\n",
    "        key = A[j]; acct.count()\n",
    "        i = j - 1; acct.count()\n",
    "        acct.count()\n",
    "        while (i >= 0) and (A[i] > key):\n",
    "            acct.count()\n",
    "            A[i + 1] = A[i]; acct.count()\n",
    "            i = i -1; acct.count()\n",
    "        A[i + 1] = key; acct.count()\n",
    "        j = j + 1; acct.count()\n",
    "n= 5\n",
    "s= random.sample(range(100), n)\n",
    "s = list (s)\n",
    "x= list (permutations(s, n))\n",
    "f=n\n",
    "fac=1\n",
    "p=[]\n",
    "while f > 0:\n",
    "    fac= fac*f\n",
    "    f= f-1\n",
    "for i in range (0,fac):\n",
    "    t = list (x[i])\n",
    "    step = Counter ()\n",
    "    acct_insertion_sort(t,step)\n",
    "    p.append(step.print_steps())\n",
    "    \n",
    "prom=0\n",
    "suma = 0    \n",
    "for h in range (0,len(p)):\n",
    "    suma = suma + p[h]\n",
    "    \n",
    "prom = (suma)/fac\n",
    "print (\"el promedio es : \",  prom)\n",
    "print p\n",
    "plt.hist(p,fac,(min(p),max(p)))\n",
    "\n"
   ]
  },
  {
   "cell_type": "code",
   "execution_count": 7,
   "metadata": {
    "collapsed": false
   },
   "outputs": [
    {
     "name": "stdout",
     "output_type": "stream",
     "text": [
      "('el promedio es : ', 62)\n"
     ]
    },
    {
     "data": {
      "text/plain": [
       "(array([ 1.,  0.,  0., ...,  0.,  0.,  1.]),\n",
       " array([ 31.    ,  31.0125,  31.025 , ...,  93.975 ,  93.9875,  94.    ]),\n",
       " <a list of 5040 Patch objects>)"
      ]
     },
     "execution_count": 7,
     "metadata": {},
     "output_type": "execute_result"
    },
    {
     "data": {
      "image/png": "[encoded data removed]",
      "text/plain": [
       "<matplotlib.figure.Figure at 0x7ff146a93510>"
      ]
     },
     "metadata": {},
     "output_type": "display_data"
    }
   ],
   "source": [
    "from itertools import permutations\n",
    "import matplotlib.pyplot as plt\n",
    "import random\n",
    "class Counter:\n",
    "\n",
    " \n",
    "    def __init__(self):\n",
    "        self.steps = 0\n",
    "        \n",
    "    def reset(self):\n",
    "        self.steps = 0\n",
    "\n",
    "    def count(self):\n",
    "        self.steps += 1\n",
    "\n",
    "    def print_steps(self):\n",
    "        return self.steps\n",
    "        \n",
    "def acct_insertion_sort(A, acct):\n",
    "    j = 1; acct.count()\n",
    "    while j < len(A):\n",
    "        key = A[j]; acct.count()\n",
    "        i = j - 1; acct.count()\n",
    "        acct.count()\n",
    "        while (i >= 0) and (A[i] > key):\n",
    "            acct.count()\n",
    "            A[i + 1] = A[i]; acct.count()\n",
    "            i = i -1; acct.count()\n",
    "        A[i + 1] = key; acct.count()\n",
    "        j = j + 1; acct.count()\n",
    "n= 7\n",
    "s= random.sample(range(100), n)\n",
    "s = list (s)\n",
    "x= list (permutations(s, n))\n",
    "f=n\n",
    "fac=1\n",
    "p=[]\n",
    "while f > 0:\n",
    "    fac= fac*f\n",
    "    f= f-1\n",
    "for i in range (0,fac):\n",
    "    t = list (x[i])\n",
    "    step = Counter ()\n",
    "    acct_insertion_sort(t,step)\n",
    "    p.append(step.print_steps())\n",
    "    \n",
    "prom=0\n",
    "suma = 0    \n",
    "for h in range (0,len(p)):\n",
    "    suma = suma + p[h]\n",
    "    \n",
    "prom = (suma)/fac\n",
    "print (\"el promedio es : \",  prom)\n",
    "plt.hist(p,fac,(min(p),max(p)))"
   ]
  }
 ],
 "metadata": {
  "kernelspec": {
   "display_name": "Python 2",
   "language": "python",
   "name": "python2"
  },
  "language_info": {
   "codemirror_mode": {
    "name": "ipython",
    "version": 2
   },
   "file_extension": ".py",
   "mimetype": "text/x-python",
   "name": "python",
   "nbconvert_exporter": "python",
   "pygments_lexer": "ipython2",
   "version": "2.7.12"
  }
 },
 "nbformat": 4,
 "nbformat_minor": 2
}