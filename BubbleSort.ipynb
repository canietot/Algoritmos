{
 "cells": [
  {
   "cell_type": "markdown",
   "metadata": {
    "collapsed": false
   },
   "source": [
    "# Bubble Sort"
   ]
  },
  {
   "cell_type": "markdown",
   "metadata": {},
   "source": [
    "## Loops"
   ]
  },
  {
   "cell_type": "code",
   "execution_count": 5,
   "metadata": {
    "collapsed": false
   },
   "outputs": [
    {
     "name": "stdout",
     "output_type": "stream",
     "text": [
      "('el promedio es : ', 9)\n",
      "[10, 10, 9, 9, 10, 10, 10, 10, 9, 10, 10, 10, 7, 9, 9, 10, 9, 10, 10, 10, 10, 10, 9, 10, 10, 10, 9, 9, 10, 10, 10, 10, 9, 9, 10, 10, 7, 9, 7, 7, 9, 7, 10, 10, 10, 10, 9, 9, 10, 10, 9, 10, 10, 10, 10, 10, 9, 9, 10, 10, 9, 10, 7, 7, 10, 9, 10, 10, 10, 10, 10, 9, 7, 9, 9, 10, 9, 10, 7, 9, 4, 7, 9, 7, 9, 10, 7, 7, 10, 9, 9, 10, 9, 7, 10, 9, 10, 10, 10, 10, 9, 10, 10, 10, 10, 10, 9, 9, 10, 10, 10, 10, 10, 9, 9, 10, 9, 7, 10, 9]\n"
     ]
    },
    {
     "data": {
      "text/plain": [
       "(array([  1.,   0.,   0.,   0.,   0.,   0.,   0.,   0.,   0.,   0.,   0.,\n",
       "          0.,   0.,   0.,   0.,   0.,   0.,   0.,   0.,   0.,   0.,   0.,\n",
       "          0.,   0.,   0.,   0.,   0.,   0.,   0.,   0.,   0.,   0.,   0.,\n",
       "          0.,   0.,   0.,   0.,   0.,   0.,   0.,   0.,   0.,   0.,   0.,\n",
       "          0.,   0.,   0.,   0.,   0.,   0.,   0.,   0.,   0.,   0.,   0.,\n",
       "          0.,   0.,   0.,   0.,   0.,  15.,   0.,   0.,   0.,   0.,   0.,\n",
       "          0.,   0.,   0.,   0.,   0.,   0.,   0.,   0.,   0.,   0.,   0.,\n",
       "          0.,   0.,   0.,   0.,   0.,   0.,   0.,   0.,   0.,   0.,   0.,\n",
       "          0.,   0.,   0.,   0.,   0.,   0.,   0.,   0.,   0.,   0.,   0.,\n",
       "          0.,  38.,   0.,   0.,   0.,   0.,   0.,   0.,   0.,   0.,   0.,\n",
       "          0.,   0.,   0.,   0.,   0.,   0.,   0.,   0.,   0.,  66.]),\n",
       " array([  4.  ,   4.05,   4.1 ,   4.15,   4.2 ,   4.25,   4.3 ,   4.35,\n",
       "          4.4 ,   4.45,   4.5 ,   4.55,   4.6 ,   4.65,   4.7 ,   4.75,\n",
       "          4.8 ,   4.85,   4.9 ,   4.95,   5.  ,   5.05,   5.1 ,   5.15,\n",
       "          5.2 ,   5.25,   5.3 ,   5.35,   5.4 ,   5.45,   5.5 ,   5.55,\n",
       "          5.6 ,   5.65,   5.7 ,   5.75,   5.8 ,   5.85,   5.9 ,   5.95,\n",
       "          6.  ,   6.05,   6.1 ,   6.15,   6.2 ,   6.25,   6.3 ,   6.35,\n",
       "          6.4 ,   6.45,   6.5 ,   6.55,   6.6 ,   6.65,   6.7 ,   6.75,\n",
       "          6.8 ,   6.85,   6.9 ,   6.95,   7.  ,   7.05,   7.1 ,   7.15,\n",
       "          7.2 ,   7.25,   7.3 ,   7.35,   7.4 ,   7.45,   7.5 ,   7.55,\n",
       "          7.6 ,   7.65,   7.7 ,   7.75,   7.8 ,   7.85,   7.9 ,   7.95,\n",
       "          8.  ,   8.05,   8.1 ,   8.15,   8.2 ,   8.25,   8.3 ,   8.35,\n",
       "          8.4 ,   8.45,   8.5 ,   8.55,   8.6 ,   8.65,   8.7 ,   8.75,\n",
       "          8.8 ,   8.85,   8.9 ,   8.95,   9.  ,   9.05,   9.1 ,   9.15,\n",
       "          9.2 ,   9.25,   9.3 ,   9.35,   9.4 ,   9.45,   9.5 ,   9.55,\n",
       "          9.6 ,   9.65,   9.7 ,   9.75,   9.8 ,   9.85,   9.9 ,   9.95,  10.  ]),\n",
       " <a list of 120 Patch objects>)"
      ]
     },
     "execution_count": 5,
     "metadata": {},
     "output_type": "execute_result"
    },
    {
     "data": {
      "image/png": "[encoded data removed]",
      "text/plain": [
       "<matplotlib.figure.Figure at 0x7f70c76f7510>"
      ]
     },
     "metadata": {},
     "output_type": "display_data"
    }
   ],
   "source": [
    "from itertools import permutations\n",
    "import matplotlib.pyplot as plt\n",
    "import random\n",
    "\n",
    "\n",
    "def bubble_sort(inp_lis):\n",
    "    end=len(inp_lis)\n",
    "    swap_count=0\n",
    "    total_loops=0\n",
    "    quest_count=0\n",
    "    for i in range(1,end):\n",
    "        local_swaps=0\n",
    "        quest_count +=1\n",
    "        for j in range(end-i): \n",
    "            quest_count+=1                      #each time the loop size decrease by 1, initially loop size n-1\n",
    "            if inp_lis[j] > inp_lis[j+1]:               #if current element is bigger than next\n",
    "              inp_lis[j],inp_lis[j+1] = inp_lis[j+1],inp_lis[j]          #swap\n",
    "              swap_count += 1                                        #increment swap_count\n",
    "              local_swaps+=1\n",
    "              quest_count+=1\n",
    "        total_loops += j+1\n",
    "        #quest_count += 1\n",
    "        if not local_swaps:\n",
    "            quest_count += 1\n",
    "            break\n",
    "   #total_loops\n",
    "   #swap_count\n",
    "    #return swap_count\n",
    "    return total_loops \n",
    "\n",
    "n=5\n",
    "s= random.sample(range(100), n)\n",
    "s = list (s)\n",
    "x= list (permutations(s, n))\n",
    "f=n\n",
    "fac=1\n",
    "p=[]\n",
    "while f > 0:\n",
    "    fac= fac*f\n",
    "    f= f-1\n",
    "for i in range (0,fac):\n",
    "    t = list (x[i])\n",
    "    p.append(bubble_sort(t))\n",
    "    \n",
    "prom=0\n",
    "suma = 0    \n",
    "for h in range (0,len(p)):\n",
    "    suma = suma + p[h]\n",
    "    \n",
    "prom = (suma)/fac\n",
    "print (\"el promedio es : \",  prom)\n",
    "print (p)\n",
    "plt.hist(p,fac,(min(p),max(p)))"
   ]
  },
  {
   "cell_type": "code",
   "execution_count": 2,
   "metadata": {
    "collapsed": false,
    "scrolled": true
   },
   "outputs": [
    {
     "name": "stdout",
     "output_type": "stream",
     "text": [
      "('el promedio es : ', 19)\n"
     ]
    },
    {
     "data": {
      "text/plain": [
       "(array([  1.00000000e+00,   0.00000000e+00,   0.00000000e+00, ...,\n",
       "          0.00000000e+00,   0.00000000e+00,   2.04000000e+03]),\n",
       " array([  6.        ,   6.00297619,   6.00595238, ...,  20.99404762,\n",
       "         20.99702381,  21.        ]),\n",
       " <a list of 5040 Patch objects>)"
      ]
     },
     "execution_count": 2,
     "metadata": {},
     "output_type": "execute_result"
    },
    {
     "data": {
      "image/png": "[encoded data removed]",
      "text/plain": [
       "<matplotlib.figure.Figure at 0x7f70e576cc90>"
      ]
     },
     "metadata": {},
     "output_type": "display_data"
    }
   ],
   "source": [
    "from itertools import permutations\n",
    "import matplotlib.pyplot as plt\n",
    "import random\n",
    "\n",
    "\n",
    "def bubble_sort(inp_lis):\n",
    "    end=len(inp_lis)\n",
    "    swap_count=0\n",
    "    total_loops=0\n",
    "    quest_count=0\n",
    "    for i in range(1,end):\n",
    "        local_swaps=0\n",
    "        quest_count +=1\n",
    "        for j in range(end-i): \n",
    "            quest_count+=1                      #each time the loop size decrease by 1, initially loop size n-1\n",
    "            if inp_lis[j] > inp_lis[j+1]:               #if current element is bigger than next\n",
    "              inp_lis[j],inp_lis[j+1] = inp_lis[j+1],inp_lis[j]          #swap\n",
    "              swap_count += 1                                        #increment swap_count\n",
    "              local_swaps+=1\n",
    "              quest_count+=1\n",
    "        total_loops += j+1\n",
    "        #quest_count += 1\n",
    "        if not local_swaps:\n",
    "            quest_count += 1\n",
    "            break\n",
    "   #total_loops\n",
    "   #swap_count\n",
    "    #return swap_count\n",
    "    return total_loops \n",
    "\n",
    "n=7\n",
    "s= random.sample(range(100), n)\n",
    "s = list (s)\n",
    "x= list (permutations(s, n))\n",
    "f=n\n",
    "fac=1\n",
    "p=[]\n",
    "while f > 0:\n",
    "    fac= fac*f\n",
    "    f= f-1\n",
    "for i in range (0,fac):\n",
    "    t = list (x[i])\n",
    "    p.append(bubble_sort(t))\n",
    "    \n",
    "prom=0\n",
    "suma = 0    \n",
    "for h in range (0,len(p)):\n",
    "    suma = suma + p[h]\n",
    "    \n",
    "prom = (suma)/fac\n",
    "print (\"el promedio es : \",  prom)\n",
    "plt.hist(p,fac,(min(p),max(p)))"
   ]
  },
  {
   "cell_type": "markdown",
   "metadata": {},
   "source": [
    "## Swaps"
   ]
  },
  {
   "cell_type": "code",
   "execution_count": 6,
   "metadata": {
    "collapsed": false
   },
   "outputs": [
    {
     "name": "stdout",
     "output_type": "stream",
     "text": [
      "('el promedio es : ', 5)\n",
      "[6, 5, 7, 8, 6, 7, 5, 4, 4, 3, 3, 2, 6, 7, 5, 4, 6, 5, 5, 6, 4, 3, 5, 4, 7, 6, 8, 9, 7, 8, 6, 5, 7, 6, 4, 5, 9, 10, 8, 7, 9, 8, 6, 7, 5, 6, 8, 7, 4, 3, 3, 2, 2, 1, 5, 4, 6, 5, 3, 4, 4, 3, 5, 4, 2, 3, 1, 0, 2, 3, 1, 2, 7, 8, 6, 5, 7, 6, 8, 9, 7, 6, 8, 7, 5, 4, 6, 5, 3, 4, 6, 5, 7, 6, 4, 5, 4, 5, 3, 2, 4, 3, 5, 6, 4, 5, 7, 6, 2, 1, 3, 4, 2, 3, 5, 4, 6, 5, 3, 4]\n"
     ]
    },
    {
     "data": {
      "text/plain": [
       "(array([  1.,   0.,   0.,   0.,   0.,   0.,   0.,   0.,   0.,   0.,   0.,\n",
       "          0.,   4.,   0.,   0.,   0.,   0.,   0.,   0.,   0.,   0.,   0.,\n",
       "          0.,   0.,   9.,   0.,   0.,   0.,   0.,   0.,   0.,   0.,   0.,\n",
       "          0.,   0.,   0.,  15.,   0.,   0.,   0.,   0.,   0.,   0.,   0.,\n",
       "          0.,   0.,   0.,   0.,  20.,   0.,   0.,   0.,   0.,   0.,   0.,\n",
       "          0.,   0.,   0.,   0.,   0.,  22.,   0.,   0.,   0.,   0.,   0.,\n",
       "          0.,   0.,   0.,   0.,   0.,   0.,  20.,   0.,   0.,   0.,   0.,\n",
       "          0.,   0.,   0.,   0.,   0.,   0.,   0.,  15.,   0.,   0.,   0.,\n",
       "          0.,   0.,   0.,   0.,   0.,   0.,   0.,   0.,   9.,   0.,   0.,\n",
       "          0.,   0.,   0.,   0.,   0.,   0.,   0.,   0.,   0.,   4.,   0.,\n",
       "          0.,   0.,   0.,   0.,   0.,   0.,   0.,   0.,   0.,   1.]),\n",
       " array([  0.        ,   0.08333333,   0.16666667,   0.25      ,\n",
       "          0.33333333,   0.41666667,   0.5       ,   0.58333333,\n",
       "          0.66666667,   0.75      ,   0.83333333,   0.91666667,\n",
       "          1.        ,   1.08333333,   1.16666667,   1.25      ,\n",
       "          1.33333333,   1.41666667,   1.5       ,   1.58333333,\n",
       "          1.66666667,   1.75      ,   1.83333333,   1.91666667,\n",
       "          2.        ,   2.08333333,   2.16666667,   2.25      ,\n",
       "          2.33333333,   2.41666667,   2.5       ,   2.58333333,\n",
       "          2.66666667,   2.75      ,   2.83333333,   2.91666667,\n",
       "          3.        ,   3.08333333,   3.16666667,   3.25      ,\n",
       "          3.33333333,   3.41666667,   3.5       ,   3.58333333,\n",
       "          3.66666667,   3.75      ,   3.83333333,   3.91666667,\n",
       "          4.        ,   4.08333333,   4.16666667,   4.25      ,\n",
       "          4.33333333,   4.41666667,   4.5       ,   4.58333333,\n",
       "          4.66666667,   4.75      ,   4.83333333,   4.91666667,\n",
       "          5.        ,   5.08333333,   5.16666667,   5.25      ,\n",
       "          5.33333333,   5.41666667,   5.5       ,   5.58333333,\n",
       "          5.66666667,   5.75      ,   5.83333333,   5.91666667,\n",
       "          6.        ,   6.08333333,   6.16666667,   6.25      ,\n",
       "          6.33333333,   6.41666667,   6.5       ,   6.58333333,\n",
       "          6.66666667,   6.75      ,   6.83333333,   6.91666667,\n",
       "          7.        ,   7.08333333,   7.16666667,   7.25      ,\n",
       "          7.33333333,   7.41666667,   7.5       ,   7.58333333,\n",
       "          7.66666667,   7.75      ,   7.83333333,   7.91666667,\n",
       "          8.        ,   8.08333333,   8.16666667,   8.25      ,\n",
       "          8.33333333,   8.41666667,   8.5       ,   8.58333333,\n",
       "          8.66666667,   8.75      ,   8.83333333,   8.91666667,\n",
       "          9.        ,   9.08333333,   9.16666667,   9.25      ,\n",
       "          9.33333333,   9.41666667,   9.5       ,   9.58333333,\n",
       "          9.66666667,   9.75      ,   9.83333333,   9.91666667,  10.        ]),\n",
       " <a list of 120 Patch objects>)"
      ]
     },
     "execution_count": 6,
     "metadata": {},
     "output_type": "execute_result"
    },
    {
     "data": {
      "image/png": "[encoded data removed]",
      "text/plain": [
       "<matplotlib.figure.Figure at 0x7fb02c69bf50>"
      ]
     },
     "metadata": {},
     "output_type": "display_data"
    }
   ],
   "source": [
    "from itertools import permutations\n",
    "import matplotlib.pyplot as plt\n",
    "import random\n",
    "\n",
    "\n",
    "def bubble_sort(inp_lis):\n",
    "    end=len(inp_lis)\n",
    "    swap_count=0\n",
    "    total_loops=0\n",
    "    quest_count=0\n",
    "    for i in range(1,end):\n",
    "        local_swaps=0\n",
    "        quest_count +=1\n",
    "        for j in range(end-i): \n",
    "            quest_count+=1                      #each time the loop size decrease by 1, initially loop size n-1\n",
    "            if inp_lis[j] > inp_lis[j+1]:               #if current element is bigger than next\n",
    "              inp_lis[j],inp_lis[j+1] = inp_lis[j+1],inp_lis[j]          #swap\n",
    "              swap_count += 1                                        #increment swap_count\n",
    "              local_swaps+=1\n",
    "              quest_count+=1\n",
    "        total_loops += j+1\n",
    "        #quest_count += 1\n",
    "        if not local_swaps:\n",
    "            quest_count += 1\n",
    "            break\n",
    "\n",
    "    return swap_count\n",
    "\n",
    "n=5\n",
    "s= random.sample(range(100), n)\n",
    "s = list (s)\n",
    "x= list (permutations(s, n))\n",
    "f=n\n",
    "fac=1\n",
    "p=[]\n",
    "while f > 0:\n",
    "    fac= fac*f\n",
    "    f= f-1\n",
    "for i in range (0,fac):\n",
    "    t = list (x[i])\n",
    "    p.append(bubble_sort(t))\n",
    "    \n",
    "prom=0\n",
    "suma = 0    \n",
    "for h in range (0,len(p)):\n",
    "    suma = suma + p[h]\n",
    "    \n",
    "prom = (suma)/fac\n",
    "print (\"el promedio es : \",  prom)\n",
    "print (p)\n",
    "plt.hist(p,fac,(min(p),max(p)))"
   ]
  },
  {
   "cell_type": "code",
   "execution_count": 6,
   "metadata": {
    "collapsed": false
   },
   "outputs": [
    {
     "name": "stdout",
     "output_type": "stream",
     "text": [
      "('el promedio es : ', 10)\n"
     ]
    },
    {
     "data": {
      "text/plain": [
       "(array([ 1.,  0.,  0., ...,  0.,  0.,  1.]),\n",
       " array([  0.00000000e+00,   4.16666667e-03,   8.33333333e-03, ...,\n",
       "          2.09916667e+01,   2.09958333e+01,   2.10000000e+01]),\n",
       " <a list of 5040 Patch objects>)"
      ]
     },
     "execution_count": 6,
     "metadata": {},
     "output_type": "execute_result"
    },
    {
     "data": {
      "image/png": "[encoded data removed]",
      "text/plain": [
       "<matplotlib.figure.Figure at 0x7f70bc4f1d10>"
      ]
     },
     "metadata": {},
     "output_type": "display_data"
    }
   ],
   "source": [
    "from itertools import permutations\n",
    "import matplotlib.pyplot as plt\n",
    "import random\n",
    "\n",
    "\n",
    "def bubble_sort(inp_lis):\n",
    "    end=len(inp_lis)\n",
    "    swap_count=0\n",
    "    total_loops=0\n",
    "    quest_count=0\n",
    "    for i in range(1,end):\n",
    "        local_swaps=0\n",
    "        quest_count +=1\n",
    "        for j in range(end-i): \n",
    "            quest_count+=1                      #each time the loop size decrease by 1, initially loop size n-1\n",
    "            if inp_lis[j] > inp_lis[j+1]:               #if current element is bigger than next\n",
    "              inp_lis[j],inp_lis[j+1] = inp_lis[j+1],inp_lis[j]          #swap\n",
    "              swap_count += 1                                        #increment swap_count\n",
    "              local_swaps+=1\n",
    "              quest_count+=1\n",
    "        total_loops += j+1\n",
    "        #quest_count += 1\n",
    "        if not local_swaps:\n",
    "            quest_count += 1\n",
    "            break\n",
    "   #total_loops\n",
    "   #swap_count\n",
    "    #return swap_count\n",
    "    return swap_count\n",
    "\n",
    "n=7\n",
    "s= random.sample(range(100), n)\n",
    "s = list (s)\n",
    "x= list (permutations(s, n))\n",
    "f=n\n",
    "fac=1\n",
    "p=[]\n",
    "while f > 0:\n",
    "    fac= fac*f\n",
    "    f= f-1\n",
    "for i in range (0,fac):\n",
    "    t = list (x[i])\n",
    "    p.append(bubble_sort(t))\n",
    "    \n",
    "prom=0\n",
    "suma = 0    \n",
    "for h in range (0,len(p)):\n",
    "    suma = suma + p[h]\n",
    "    \n",
    "prom = (suma)/fac\n",
    "print (\"el promedio es : \",  prom)\n",
    "plt.hist(p,fac,(min(p),max(p)))"
   ]
  },
  {
   "cell_type": "markdown",
   "metadata": {},
   "source": [
    "## Steps"
   ]
  },
  {
   "cell_type": "code",
   "execution_count": 8,
   "metadata": {
    "collapsed": false
   },
   "outputs": [
    {
     "name": "stdout",
     "output_type": "stream",
     "text": [
      "('el promedio es : ', 19)\n",
      "[13, 12, 17, 20, 16, 19, 12, 7, 13, 17, 12, 16, 18, 21, 14, 18, 22, 19, 17, 20, 13, 17, 21, 18, 14, 13, 18, 21, 17, 20, 18, 17, 21, 21, 20, 20, 19, 22, 22, 22, 23, 23, 18, 21, 21, 21, 22, 22, 13, 12, 14, 18, 13, 17, 17, 16, 20, 20, 19, 19, 18, 19, 21, 21, 22, 22, 17, 18, 20, 20, 21, 21, 19, 22, 15, 19, 23, 20, 20, 23, 23, 23, 24, 24, 19, 20, 22, 22, 23, 23, 24, 21, 25, 25, 24, 24, 18, 21, 14, 18, 22, 19, 19, 22, 22, 22, 23, 23, 18, 19, 21, 21, 22, 22, 23, 20, 24, 24, 23, 23]\n"
     ]
    },
    {
     "data": {
      "text/plain": [
       "(array([  1.,   0.,   0.,   0.,   0.,   0.,   0.,   0.,   0.,   0.,   0.,\n",
       "          0.,   0.,   0.,   0.,   0.,   0.,   0.,   0.,   0.,   0.,   0.,\n",
       "          0.,   0.,   0.,   0.,   0.,   0.,   0.,   0.,   0.,   0.,   0.,\n",
       "          4.,   0.,   0.,   0.,   0.,   0.,   0.,   6.,   0.,   0.,   0.,\n",
       "          0.,   0.,   4.,   0.,   0.,   0.,   0.,   0.,   0.,   1.,   0.,\n",
       "          0.,   0.,   0.,   0.,   0.,   3.,   0.,   0.,   0.,   0.,   0.,\n",
       "          9.,   0.,   0.,   0.,   0.,   0.,   0.,  12.,   0.,   0.,   0.,\n",
       "          0.,   0.,   0.,  12.,   0.,   0.,   0.,   0.,   0.,  13.,   0.,\n",
       "          0.,   0.,   0.,   0.,   0.,  16.,   0.,   0.,   0.,   0.,   0.,\n",
       "          0.,  17.,   0.,   0.,   0.,   0.,   0.,  13.,   0.,   0.,   0.,\n",
       "          0.,   0.,   0.,   7.,   0.,   0.,   0.,   0.,   0.,   2.]),\n",
       " array([  7.  ,   7.15,   7.3 ,   7.45,   7.6 ,   7.75,   7.9 ,   8.05,\n",
       "          8.2 ,   8.35,   8.5 ,   8.65,   8.8 ,   8.95,   9.1 ,   9.25,\n",
       "          9.4 ,   9.55,   9.7 ,   9.85,  10.  ,  10.15,  10.3 ,  10.45,\n",
       "         10.6 ,  10.75,  10.9 ,  11.05,  11.2 ,  11.35,  11.5 ,  11.65,\n",
       "         11.8 ,  11.95,  12.1 ,  12.25,  12.4 ,  12.55,  12.7 ,  12.85,\n",
       "         13.  ,  13.15,  13.3 ,  13.45,  13.6 ,  13.75,  13.9 ,  14.05,\n",
       "         14.2 ,  14.35,  14.5 ,  14.65,  14.8 ,  14.95,  15.1 ,  15.25,\n",
       "         15.4 ,  15.55,  15.7 ,  15.85,  16.  ,  16.15,  16.3 ,  16.45,\n",
       "         16.6 ,  16.75,  16.9 ,  17.05,  17.2 ,  17.35,  17.5 ,  17.65,\n",
       "         17.8 ,  17.95,  18.1 ,  18.25,  18.4 ,  18.55,  18.7 ,  18.85,\n",
       "         19.  ,  19.15,  19.3 ,  19.45,  19.6 ,  19.75,  19.9 ,  20.05,\n",
       "         20.2 ,  20.35,  20.5 ,  20.65,  20.8 ,  20.95,  21.1 ,  21.25,\n",
       "         21.4 ,  21.55,  21.7 ,  21.85,  22.  ,  22.15,  22.3 ,  22.45,\n",
       "         22.6 ,  22.75,  22.9 ,  23.05,  23.2 ,  23.35,  23.5 ,  23.65,\n",
       "         23.8 ,  23.95,  24.1 ,  24.25,  24.4 ,  24.55,  24.7 ,  24.85,  25.  ]),\n",
       " <a list of 120 Patch objects>)"
      ]
     },
     "execution_count": 8,
     "metadata": {},
     "output_type": "execute_result"
    },
    {
     "data": {
      "image/png": "[encoded data removed]",
      "text/plain": [
       "<matplotlib.figure.Figure at 0x7f70c0891810>"
      ]
     },
     "metadata": {},
     "output_type": "display_data"
    }
   ],
   "source": [
    "from itertools import permutations\n",
    "import matplotlib.pyplot as plt\n",
    "import random\n",
    "\n",
    "\n",
    "def bubble_sort(inp_lis):\n",
    "    end=len(inp_lis)\n",
    "    swap_count=0\n",
    "    total_loops=0\n",
    "    quest_count=1\n",
    "    for i in range(1,end):\n",
    "        local_swaps=0\n",
    "        quest_count +=1\n",
    "        for j in range(end-i): \n",
    "            quest_count+=1                      #each time the loop size decrease by 1, initially loop size n-1\n",
    "            if inp_lis[j] > inp_lis[j+1]:               #if current element is bigger than next\n",
    "              inp_lis[j],inp_lis[j+1] = inp_lis[j+1],inp_lis[j]          #swap\n",
    "              swap_count += 1                                        #increment swap_count\n",
    "              local_swaps+=1\n",
    "              quest_count+=1\n",
    "        total_loops += j+1\n",
    "        #quest_count += 1\n",
    "        if not local_swaps:\n",
    "            quest_count += 1\n",
    "            break\n",
    "   #total_loops\n",
    "   #swap_count\n",
    "    #return swap_count\n",
    "    return quest_count\n",
    "\n",
    "n=5\n",
    "s= random.sample(range(100), n)\n",
    "s = list (s)\n",
    "x= list (permutations(s, n))\n",
    "f=n\n",
    "fac=1\n",
    "p=[]\n",
    "while f > 0:\n",
    "    fac= fac*f\n",
    "    f= f-1\n",
    "for i in range (0,fac):\n",
    "    t = list (x[i])\n",
    "    p.append(bubble_sort(t))\n",
    "    \n",
    "prom=0\n",
    "suma = 0    \n",
    "for h in range (0,len(p)):\n",
    "    suma = suma + p[h]\n",
    "    \n",
    "prom = (suma)/fac\n",
    "print (\"el promedio es : \",  prom)\n",
    "print (p)\n",
    "plt.hist(p,fac,(min(p),max(p)))"
   ]
  },
  {
   "cell_type": "code",
   "execution_count": 10,
   "metadata": {
    "collapsed": false
   },
   "outputs": [
    {
     "name": "stdout",
     "output_type": "stream",
     "text": [
      "('el promedio es : ', 36)\n"
     ]
    },
    {
     "data": {
      "text/plain": [
       "(array([ 1.,  0.,  0., ...,  0.,  0.,  2.]),\n",
       " array([  9.        ,   9.00793651,   9.01587302, ...,  48.98412698,\n",
       "         48.99206349,  49.        ]),\n",
       " <a list of 5040 Patch objects>)"
      ]
     },
     "execution_count": 10,
     "metadata": {},
     "output_type": "execute_result"
    },
    {
     "data": {
      "image/png": "[encoded data removed]",
      "text/plain": [
       "<matplotlib.figure.Figure at 0x7f70a8a0ffd0>"
      ]
     },
     "metadata": {},
     "output_type": "display_data"
    }
   ],
   "source": [
    "from itertools import permutations\n",
    "import matplotlib.pyplot as plt\n",
    "import random\n",
    "\n",
    "\n",
    "def bubble_sort(inp_lis):\n",
    "    end=len(inp_lis)\n",
    "    swap_count=0\n",
    "    total_loops=0\n",
    "    quest_count=1\n",
    "    for i in range(1,end):\n",
    "        local_swaps=0\n",
    "        quest_count +=1\n",
    "        for j in range(end-i): \n",
    "            quest_count+=1                      #each time the loop size decrease by 1, initially loop size n-1\n",
    "            if inp_lis[j] > inp_lis[j+1]:               #if current element is bigger than next\n",
    "              inp_lis[j],inp_lis[j+1] = inp_lis[j+1],inp_lis[j]          #swap\n",
    "              swap_count += 1                                        #increment swap_count\n",
    "              local_swaps+=1\n",
    "              quest_count+=1\n",
    "        total_loops += j+1\n",
    "        #quest_count += 1\n",
    "        if not local_swaps:\n",
    "            quest_count += 1\n",
    "            break\n",
    "   #total_loops\n",
    "   #swap_count\n",
    "    #return swap_count\n",
    "    return quest_count\n",
    "\n",
    "n=7\n",
    "s= random.sample(range(100), n)\n",
    "s = list (s)\n",
    "x= list (permutations(s, n))\n",
    "f=n\n",
    "fac=1\n",
    "p=[]\n",
    "while f > 0:\n",
    "    fac= fac*f\n",
    "    f= f-1\n",
    "for i in range (0,fac):\n",
    "    t = list (x[i])\n",
    "    p.append(bubble_sort(t))\n",
    "    \n",
    "prom=0\n",
    "suma = 0    \n",
    "for h in range (0,len(p)):\n",
    "    suma = suma + p[h]\n",
    "    \n",
    "prom = (suma)/fac\n",
    "print (\"el promedio es : \",  prom)\n",
    "plt.hist(p,fac,(min(p),max(p)))"
   ]
  }
 ],
 "metadata": {
  "kernelspec": {
   "display_name": "Python 2",
   "language": "python",
   "name": "python2"
  },
  "language_info": {
   "codemirror_mode": {
    "name": "ipython",
    "version": 2
   },
   "file_extension": ".py",
   "mimetype": "text/x-python",
   "name": "python",
   "nbconvert_exporter": "python",
   "pygments_lexer": "ipython2",
   "version": "2.7.12"
  }
 },
 "nbformat": 4,
 "nbformat_minor": 2
}